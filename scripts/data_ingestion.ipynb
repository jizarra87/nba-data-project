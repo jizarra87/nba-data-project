{
 "cells": [
  {
   "cell_type": "code",
   "execution_count": 18,
   "id": "3d9494fe-9efd-46ad-aa79-c52226ea865f",
   "metadata": {},
   "outputs": [
    {
     "name": "stderr",
     "output_type": "stream",
     "text": [
      "24/12/11 11:21:19 WARN SparkStringUtils: Truncated the string representation of a plan since it was too large. This behavior can be adjusted by setting 'spark.sql.debug.maxToStringFields'.\n",
      "24/12/11 11:21:19 WARN TaskSetManager: Stage 18 contains a task of very large size (2416 KiB). The maximum recommended task size is 1000 KiB.\n"
     ]
    },
    {
     "name": "stdout",
     "output_type": "stream",
     "text": [
      "+---------+----------+-----------------+-------------+----------+----------+-----------+---+---+---+---+---+------+----+----+-------+---+---+------+----+----+----+---+----+---+---+---+----------+\n",
      "|SEASON_ID|   TEAM_ID|TEAM_ABBREVIATION|    TEAM_NAME|   GAME_ID| GAME_DATE|    MATCHUP| WL|MIN|PTS|FGM|FGA|FG_PCT|FG3M|FG3A|FG3_PCT|FTM|FTA|FT_PCT|OREB|DREB| REB|AST| STL|BLK|TOV| PF|PLUS_MINUS|\n",
      "+---------+----------+-----------------+-------------+----------+----------+-----------+---+---+---+---+---+------+----+----+-------+---+---+------+----+----+----+---+----+---+---+---+----------+\n",
      "|    22024|1610612737|              ATL|Atlanta Hawks|0022400350|2024-12-08|ATL vs. DEN|  L|239|111| 41|101| 0.406|   9|40.0|  0.225| 20| 27| 0.741|19.0|26.0|45.0| 26|12.0|  2| 12| 22|     -30.0|\n",
      "|    22024|1610612737|              ATL|Atlanta Hawks|0022400334|2024-12-06|ATL vs. LAL|  W|265|134| 50|100|   0.5|  17|40.0|  0.425| 17| 22| 0.773|11.0|37.0|48.0| 40|10.0|  5| 17| 24|       2.0|\n",
      "|    22024|1610612737|              ATL|Atlanta Hawks|0022400323|2024-12-04|  ATL @ MIL|  W|240|119| 45|102| 0.441|   9|32.0|  0.281| 20| 22| 0.909|15.0|39.0|54.0| 29|16.0|  3| 11| 25|      15.0|\n",
      "|    22024|1610612737|              ATL|Atlanta Hawks|0022400315|2024-12-02|ATL vs. NOP|  W|241|124| 49| 96|  0.51|  10|38.0|  0.263| 16| 20|   0.8|11.0|40.0|51.0| 30|12.0|  4| 18| 15|      12.0|\n",
      "|    22024|1610612737|              ATL|Atlanta Hawks|0022400300|2024-11-30|  ATL @ CHA|  W|240|107| 38| 78| 0.487|  10|33.0|  0.303| 21| 27| 0.778|14.0|35.0|49.0| 27| 8.0|  7| 20| 15|       3.0|\n",
      "|    22024|1610612737|              ATL|Atlanta Hawks|0022400041|2024-11-29|ATL vs. CLE|  W|241|117| 44| 85| 0.518|  14|34.0|  0.412| 15| 18| 0.833|10.0|43.0|53.0| 33| 9.0|  5| 18| 20|      16.0|\n",
      "|    22024|1610612737|              ATL|Atlanta Hawks|0022400287|2024-11-27|  ATL @ CLE|  W|240|135| 46| 97| 0.474|  20|42.0|  0.476| 23| 25|  0.92|14.0|37.0|51.0| 39| 6.0|  6| 13| 21|      11.0|\n",
      "|    22024|1610612737|              ATL|Atlanta Hawks|0022400280|2024-11-25|ATL vs. DAL|  L|240|119| 48|101| 0.475|   9|31.0|   0.29| 14| 16| 0.875| 9.0|30.0|39.0| 32|10.0|  6| 14| 15|     -10.0|\n",
      "|    22024|1610612737|              ATL|Atlanta Hawks|0022400030|2024-11-22|  ATL @ CHI|  L|240|122| 49|107| 0.458|  10|34.0|  0.294| 14| 19| 0.737|14.0|28.0|42.0| 32|11.0|  4| 11| 16|     -14.0|\n",
      "|    22024|1610612737|              ATL|Atlanta Hawks|0022400258|2024-11-20|  ATL @ GSW|  L|238| 97| 35|105| 0.333|  12|45.0|  0.267| 15| 24| 0.625|21.0|44.0|65.0| 27| 9.0|  5| 17| 17|     -23.0|\n",
      "|    22024|1610612737|              ATL|Atlanta Hawks|0022400250|2024-11-18|  ATL @ SAC|  W|239|109| 39| 83|  0.47|  16|38.0|  0.421| 15| 18| 0.833| 6.0|31.0|37.0| 34| 7.0|  7| 14| 19|       1.0|\n",
      "|    22024|1610612737|              ATL|Atlanta Hawks|0022400239|2024-11-17|  ATL @ POR|  L|240|110| 39| 85| 0.459|  11|32.0|  0.344| 21| 25|  0.84|16.0|31.0|47.0| 30|10.0|  7| 25| 19|      -4.0|\n",
      "|    22024|1610612737|              ATL|Atlanta Hawks|0022400012|2024-11-15|ATL vs. WAS|  W|240|129| 46| 98| 0.469|  12|37.0|  0.324| 25| 30| 0.833|15.0|40.0|55.0| 28|10.0| 10| 16| 17|      12.0|\n",
      "|    22024|1610612737|              ATL|Atlanta Hawks|0022400001|2024-11-12|  ATL @ BOS|  W|240|117| 50| 99| 0.505|  10|32.0|  0.313|  7| 13| 0.538|19.0|25.0|44.0| 35|16.0|  2| 16| 17|       1.0|\n",
      "|    22024|1610612737|              ATL|Atlanta Hawks|0022400198|2024-11-09|ATL vs. CHI|  L|240|113| 41| 89| 0.461|   9|29.0|   0.31| 22| 30| 0.733|10.0|29.0|39.0| 31| 8.0|  5| 13| 19|     -12.0|\n",
      "|    22024|1610612737|              ATL|Atlanta Hawks|0022400185|2024-11-08|  ATL @ DET|  L|240|121| 44| 97| 0.454|  15|36.0|  0.417| 18| 23| 0.783|15.0|29.0|44.0| 30|12.0|  7| 17| 21|      -1.0|\n",
      "|    22024|1610612737|              ATL|Atlanta Hawks|0022400171|2024-11-06|ATL vs. NYK|  W|240|121| 45|100|  0.45|  15|38.0|  0.395| 16| 22| 0.727|16.0|32.0|48.0| 31|12.0|  4|  8| 14|       5.0|\n",
      "|    22024|1610612737|              ATL|Atlanta Hawks|0022400157|2024-11-04|ATL vs. BOS|  L|240| 93| 37| 89| 0.416|   6|31.0|  0.194| 13| 16| 0.813| 8.0|35.0|43.0| 23| 9.0|  3| 19| 13|     -30.0|\n",
      "|    22024|1610612737|              ATL|Atlanta Hawks|0022400152|2024-11-03|  ATL @ NOP|  W|240|126| 50| 88| 0.568|  15|36.0|  0.417| 11| 12| 0.917|10.0|31.0|41.0| 29|10.0|  3| 16| 17|      15.0|\n",
      "|    22024|1610612737|              ATL|Atlanta Hawks|0022400135|2024-11-01|ATL vs. SAC|  L|240|115| 41| 92| 0.446|  19|50.0|   0.38| 14| 18| 0.778| 8.0|32.0|40.0| 30| 8.0|  4| 13| 22|      -8.0|\n",
      "+---------+----------+-----------------+-------------+----------+----------+-----------+---+---+---+---+---+------+----+----+-------+---+---+------+----+----+----+---+----+---+---+---+----------+\n",
      "only showing top 20 rows\n",
      "\n"
     ]
    }
   ],
   "source": [
    "from pyspark.sql import SparkSession\n",
    "import pandas as pd\n",
    "from nba_api.stats.static import teams\n",
    "from nba_api.stats.endpoints import leaguegamefinder\n",
    "\n",
    "\n",
    "def ingestion_data ():\n",
    "    spark = SparkSession.builder.appName('NBA_Ingestion').getOrCreate()\n",
    "    nba_teams = teams.get_teams()\n",
    "    teams_df = spark.createDataFrame(nba_teams)\n",
    "    dataframes = []\n",
    "    for i in teams_df.collect():\n",
    "        gamefinder = leaguegamefinder.LeagueGameFinder(team_id_nullable=i['id'])\n",
    "        games = gamefinder.get_data_frames()[0]  # Get the DataFrame for this team\n",
    "        dataframes.append(games)  # Append the DataFrame to the list\n",
    "\n",
    "    # Concatenate all DataFrames into a single DataFrame\n",
    "    final_df = pd.concat(dataframes, ignore_index=True)\n",
    "    games_df = spark.createDataFrame(final_df)\n",
    "    return games_df\n",
    "\n",
    "\n",
    "if __name__ == '__main__':\n",
    "    df = ingestion_data()\n",
    "    df.show()"
   ]
  },
  {
   "cell_type": "code",
   "execution_count": 15,
   "id": "d64163a7-7e87-4490-ae41-e7e409cbed84",
   "metadata": {},
   "outputs": [
    {
     "name": "stdout",
     "output_type": "stream",
     "text": [
      "1610612737\n",
      "1610612738\n",
      "1610612739\n",
      "1610612740\n",
      "1610612741\n",
      "1610612742\n",
      "1610612743\n",
      "1610612744\n",
      "1610612745\n",
      "1610612746\n",
      "1610612747\n",
      "1610612748\n",
      "1610612749\n",
      "1610612750\n",
      "1610612751\n",
      "1610612752\n",
      "1610612753\n",
      "1610612754\n",
      "1610612755\n",
      "1610612756\n",
      "1610612757\n",
      "1610612758\n",
      "1610612759\n",
      "1610612760\n",
      "1610612761\n",
      "1610612762\n",
      "1610612763\n",
      "1610612764\n",
      "1610612765\n",
      "1610612766\n"
     ]
    }
   ],
   "source": [
    "for i in df.collect():\n",
    "    print(i['id'])"
   ]
  },
  {
   "cell_type": "code",
   "execution_count": null,
   "id": "160d3dbb-022d-4d45-a98f-16a3e3c097bd",
   "metadata": {},
   "outputs": [],
   "source": []
  }
 ],
 "metadata": {
  "kernelspec": {
   "display_name": "Python 3 (ipykernel)",
   "language": "python",
   "name": "python3"
  },
  "language_info": {
   "codemirror_mode": {
    "name": "ipython",
    "version": 3
   },
   "file_extension": ".py",
   "mimetype": "text/x-python",
   "name": "python",
   "nbconvert_exporter": "python",
   "pygments_lexer": "ipython3",
   "version": "3.8.10"
  }
 },
 "nbformat": 4,
 "nbformat_minor": 5
}
